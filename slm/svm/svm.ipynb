{
 "cells": [
  {
   "cell_type": "markdown",
   "metadata": {},
   "source": [
    "## 参考\n",
    "\n",
    "- Machine Learning in Action\n",
    "- 李航--统计学习方法\n"
   ]
  },
  {
   "cell_type": "code",
   "execution_count": 1,
   "metadata": {},
   "outputs": [],
   "source": [
    "import pandas as pd\n",
    "import numpy as np\n",
    "from mpl_toolkits.mplot3d import Axes3D # registers the 3D projection\n",
    "from matplotlib import pyplot as plt\n",
    "from functools import wraps, partial\n",
    "import time\n",
    "\n",
    "import svmMLiA\n",
    "import svm\n",
    "\n",
    "from scipy.spatial.distance import pdist, squareform\n",
    "\n",
    "# plot configuration\n",
    "%matplotlib widget\n",
    "%config InlineBackend.figure_formats = ['svg']\n",
    "plt.style.use('dark_background')\n",
    "# happy drafting without annoying warning\n",
    "plt.rcParams.update({'figure.max_open_warning': 1000})\n",
    "\n",
    "# enable module auto reload\n",
    "%load_ext autoreload\n",
    "%autoreload 2"
   ]
  },
  {
   "cell_type": "code",
   "execution_count": 2,
   "metadata": {},
   "outputs": [
    {
     "name": "stdout",
     "output_type": "stream",
     "text": [
      "                0           1           2\n",
      "count  100.000000  100.000000  100.000000\n",
      "mean     4.790926    0.059057   -0.080000\n",
      "std      3.103636    1.465117    1.001817\n",
      "min     -0.743036   -5.766721   -1.000000\n",
      "25%      1.976116   -0.573050   -1.000000\n",
      "50%      3.539520   -0.009497   -1.000000\n",
      "75%      8.034324    0.810767    1.000000\n",
      "max      9.854303    3.964960    1.000000\n"
     ]
    },
    {
     "data": {
      "application/vnd.jupyter.widget-view+json": {
       "model_id": "fc29374796ec4601b42b64fb7c42b33d",
       "version_major": 2,
       "version_minor": 0
      },
      "text/plain": [
       "Canvas(toolbar=Toolbar(toolitems=[('Home', 'Reset original view', 'home', 'home'), ('Back', 'Back to previous …"
      ]
     },
     "metadata": {},
     "output_type": "display_data"
    }
   ],
   "source": [
    "# we visualize a simple dataset first\n",
    "def explore_simple_data():\n",
    "    df = pd.read_csv('linear_separable.txt', sep='\\t', header=None)\n",
    "    print(df.describe())\n",
    "    \n",
    "    fig = plt.figure()\n",
    "    ax = fig.add_subplot(111)\n",
    "    ax.scatter(df[0], df[1], c=df[2])\n",
    "    \n",
    "explore_simple_data()"
   ]
  },
  {
   "cell_type": "code",
   "execution_count": 3,
   "metadata": {},
   "outputs": [],
   "source": [
    "def load_dataset(path):\n",
    "    df = pd.read_csv(path, sep='\\t', header=None)\n",
    "    return df.iloc[:, :2].to_numpy(), df.iloc[:, -1].to_numpy()\n",
    "\n",
    "def get_decision_boundary(train_data, train_label, alphas, b):\n",
    "    support_vector_idx = alphas > 0\n",
    "\n",
    "    x = np.arange(train_data[:,0].min(), train_data[:, 0].max(), 0.5)\n",
    "\n",
    "    alphas = alphas[support_vector_idx]\n",
    "    train_data = train_data[support_vector_idx]\n",
    "    train_label = train_label[support_vector_idx]\n",
    "\n",
    "\n",
    "    # calculate b by a support vector\n",
    "    b = train_label[0] - (alphas * train_label).dot(\n",
    "            (train_data * train_data[0]).sum(axis=1))\n",
    "\n",
    "    # y coordinate on decision boundary\n",
    "    y = -((alphas * train_label).dot( train_data[:, 0]) * x  + b) \\\n",
    "            / (alphas * train_label).dot( train_data[:, 1])\n",
    "\n",
    "    return x, y\n",
    "\n",
    "def visualize_dataset_with_decision_boundary(train_data, train_label, alphas, b):\n",
    "    print('support vector amount:', (alphas > 0).sum())\n",
    "    print('corresponding alphas:', alphas[alphas>0])\n",
    "    print('b in smo:', b)\n",
    "\n",
    "    support_vector_idx = alphas > 0\n",
    "\n",
    "    # plot dataset\n",
    "    fig = plt.figure()\n",
    "    ax = fig.add_subplot(111)\n",
    "    ax.scatter(train_data[:,0], train_data[:,1], c=train_label)\n",
    "    ax.scatter(train_data[support_vector_idx, 0],\n",
    "            train_data[support_vector_idx,1], marker='x')\n",
    "\n",
    "    line_x, line_y = get_decision_boundary(train_data, train_label, alphas, b)\n",
    "    ax.plot(line_x, line_y, c='b')\n"
   ]
  },
  {
   "cell_type": "code",
   "execution_count": 4,
   "metadata": {},
   "outputs": [
    {
     "name": "stdout",
     "output_type": "stream",
     "text": [
      "support vector amount: 4\n",
      "corresponding alphas: [0.06706088 0.2866089  0.06266871 0.29100106]\n",
      "b in smo: [[-3.77676133]]\n"
     ]
    },
    {
     "data": {
      "application/vnd.jupyter.widget-view+json": {
       "model_id": "300f09beb4044698be26b7e3fec02050",
       "version_major": 2,
       "version_minor": 0
      },
      "text/plain": [
       "Canvas(toolbar=Toolbar(toolitems=[('Home', 'Reset original view', 'home', 'home'), ('Back', 'Back to previous …"
      ]
     },
     "metadata": {},
     "output_type": "display_data"
    },
    {
     "name": "stdout",
     "output_type": "stream",
     "text": [
      "1.92 s ± 652 ms per loop (mean ± std. dev. of 7 runs, 1 loop each)\n"
     ]
    }
   ],
   "source": [
    "# test SMO algorithm by Machine Learning in Action\n",
    "def test_method_by_MLiA(method):\n",
    "    train_data, train_label = load_dataset('linear_separable.txt')\n",
    "    \n",
    "\n",
    "    b, alphas = method(train_data, train_label, 0.6, 1e-3, 40)\n",
    "    # alphas returned is (N,1), we convert it to (N,)\n",
    "    alphas = np.squeeze(np.asarray(alphas))\n",
    "    \n",
    "    visualize_dataset_with_decision_boundary(train_data, train_label, alphas, b)\n",
    "\n",
    "# simple version of SMO algorithm, note that I suppress the output from smoSimple\n",
    "test_method_by_MLiA(svmMLiA.smoSimple)\n",
    "\n",
    "# check performance, this implementation is quite slow\n",
    "%timeit svmMLiA.smoSimple(*load_dataset('linear_separable.txt'), 0.6, 1e-3, 40)"
   ]
  },
  {
   "cell_type": "code",
   "execution_count": 5,
   "metadata": {},
   "outputs": [
    {
     "name": "stdout",
     "output_type": "stream",
     "text": [
      "support vector amount: 8\n",
      "corresponding alphas: [0.12020075 0.0709378  0.0119673  0.0119673  0.01213881 0.02154579\n",
      " 0.02154579 0.06140175]\n",
      "b in smo: [[-2.70721904]]\n"
     ]
    },
    {
     "data": {
      "application/vnd.jupyter.widget-view+json": {
       "model_id": "539a1f494ff74e5fa7e1d07a4b41b9bd",
       "version_major": 2,
       "version_minor": 0
      },
      "text/plain": [
       "Canvas(toolbar=Toolbar(toolitems=[('Home', 'Reset original view', 'home', 'home'), ('Back', 'Back to previous …"
      ]
     },
     "metadata": {},
     "output_type": "display_data"
    },
    {
     "name": "stdout",
     "output_type": "stream",
     "text": [
      "29.5 ms ± 1.72 ms per loop (mean ± std. dev. of 7 runs, 10 loops each)\n"
     ]
    }
   ],
   "source": [
    "# test full version of SMO algortithm, note that I suppress the output from smoP\n",
    "test_method_by_MLiA(svmMLiA.smoP)\n",
    "\n",
    "# check performance, this implementation is much faster\n",
    "%timeit svmMLiA.smoP(*load_dataset('linear_separable.txt'), 0.6, 1e-3, 40)"
   ]
  },
  {
   "cell_type": "code",
   "execution_count": 6,
   "metadata": {},
   "outputs": [
    {
     "name": "stdout",
     "output_type": "stream",
     "text": [
      "<timeit  \"_solve_alphas\": 0.006785869598388672 s>\n",
      "support vector amount: 3\n",
      "corresponding alphas: [0.19898091 0.16411218 0.36309309]\n",
      "b in smo: -128.92637470903892\n"
     ]
    },
    {
     "data": {
      "application/vnd.jupyter.widget-view+json": {
       "model_id": "c8b6ff446fd9408baab66ae181103b89",
       "version_major": 2,
       "version_minor": 0
      },
      "text/plain": [
       "Canvas(toolbar=Toolbar(toolitems=[('Home', 'Reset original view', 'home', 'home'), ('Back', 'Back to previous …"
      ]
     },
     "metadata": {},
     "output_type": "display_data"
    },
    {
     "name": "stdout",
     "output_type": "stream",
     "text": [
      "8.33 ms ± 581 µs per loop (mean ± std. dev. of 7 runs, 100 loops each)\n"
     ]
    }
   ],
   "source": [
    "# test my implementation\n",
    "def test_my_svm_smo():\n",
    "    train_data, train_label = load_dataset('linear_separable.txt')\n",
    "    s = svm.SVMBySMO(train_data, train_label, 0.6, 1e-3, max_iter=40)\n",
    "    visualize_dataset_with_decision_boundary(train_data, train_label,\n",
    "            *s.get_params())\n",
    "\n",
    "test_my_svm_smo()\n",
    "\n",
    "svm.enable_timing_function = False # suppress some output from svm.timeit\n",
    "#check performance, we can see that my implementation is even faster.\n",
    "%timeit svm.SVMBySMO(*load_dataset('linear_separable.txt'), 0.6, 1e-3, max_iter=40)"
   ]
  },
  {
   "cell_type": "code",
   "execution_count": 7,
   "metadata": {},
   "outputs": [
    {
     "data": {
      "application/vnd.jupyter.widget-view+json": {
       "model_id": "008d4c3c8cba40da9b3f522aa7ddf522",
       "version_major": 2,
       "version_minor": 0
      },
      "text/plain": [
       "Canvas(toolbar=Toolbar(toolitems=[('Home', 'Reset original view', 'home', 'home'), ('Back', 'Back to previous …"
      ]
     },
     "metadata": {},
     "output_type": "display_data"
    }
   ],
   "source": [
    "def generate_test_data(amount):\n",
    "    data = np.zeros((amount, 2))\n",
    "    \n",
    "    data[:, 0] = np.random.normal(4.79, 3.1, amount)\n",
    "    data[:, 1] = np.random.normal(0, 1.46, amount)\n",
    "    \n",
    "    return data\n",
    "\n",
    "def test_predict():\n",
    "    train_data, train_label = load_dataset('linear_separable.txt')\n",
    "    \n",
    "    fig = plt.figure()\n",
    "    ax1 = fig.add_subplot(121)\n",
    "    ax1.scatter(train_data[:,0], train_data[:,1], c=train_label)\n",
    "    \n",
    "    s = svm.SVMBySMO(train_data, train_label, 0.6, 1e-3, max_iter=40)\n",
    "    \n",
    "    line_x, line_y = get_decision_boundary(train_data, train_label, *s.get_params())\n",
    "    ax1.plot(line_x, line_y, c='b')\n",
    "    \n",
    "    test_data = generate_test_data(20)\n",
    "    predict_label = s.predict(test_data)\n",
    "    \n",
    "    ax2 = fig.add_subplot(122)\n",
    "    ax2.scatter(test_data[:,0], test_data[:,1], c=predict_label)\n",
    "    ax2.plot(line_x, line_y, c='b')\n",
    "    \n",
    "test_predict()"
   ]
  },
  {
   "cell_type": "code",
   "execution_count": 8,
   "metadata": {},
   "outputs": [
    {
     "name": "stdout",
     "output_type": "stream",
     "text": [
      "                0           1           2\n",
      "count  100.000000  100.000000  100.000000\n",
      "mean     0.033447    0.105926   -0.120000\n",
      "std      0.438134    0.407107    0.997775\n",
      "min     -0.908298   -0.753885   -1.000000\n",
      "25%     -0.266502   -0.128890   -1.000000\n",
      "50%      0.052210    0.037005   -1.000000\n",
      "75%      0.306965    0.436906    1.000000\n",
      "max      0.957812    0.995685    1.000000\n"
     ]
    },
    {
     "data": {
      "application/vnd.jupyter.widget-view+json": {
       "model_id": "a39549fb7f094f6f8b79cb2c85741725",
       "version_major": 2,
       "version_minor": 0
      },
      "text/plain": [
       "Canvas(toolbar=Toolbar(toolitems=[('Home', 'Reset original view', 'home', 'home'), ('Back', 'Back to previous …"
      ]
     },
     "metadata": {},
     "output_type": "display_data"
    }
   ],
   "source": [
    "def explore_non_linear_separable_data():\n",
    "    df = pd.read_csv('nonlinear_separable_train.txt', sep='\\t', header=None)\n",
    "    print(df.describe())\n",
    "\n",
    "    fig = plt.figure()\n",
    "\n",
    "    # we plot in input space first\n",
    "    ax1 = fig.add_subplot(121)\n",
    "    ax1.title.set_text('Input Space')\n",
    "    ax1.scatter(df[0], df[1], c=df[2])\n",
    "\n",
    "    # we can see that this dataset is indeed nonlinear separable,\n",
    "    # then we apply a kernel trick, use polynomial kernel function\n",
    "    # to map the dataset to another space.\n",
    "    input_X, Y = df.iloc[:, :2].to_numpy(), df.iloc[:, -1].to_numpy()\n",
    "    N = input_X.shape[0]\n",
    "\n",
    "    # we map R^2 to R^3\n",
    "    feature_X = np.zeros((N, 3))\n",
    "    feature_X[:, 0] = input_X[:, 0] ** 2\n",
    "    feature_X[:, 1] = np.sqrt(2) * input_X[:, 0] * input_X[:, 1]\n",
    "    feature_X[:, 2] = input_X[:, 1] ** 2\n",
    "\n",
    "    # plot in feature space\n",
    "    ax2 = fig.add_subplot(122, projection='3d')\n",
    "    ax2.title.set_text('Feature Space')\n",
    "    ax2.scatter3D(feature_X[:, 0], feature_X[:, 1], feature_X[:, 2], c=Y)\n",
    "    \n",
    "explore_non_linear_separable_data()"
   ]
  },
  {
   "cell_type": "markdown",
   "metadata": {},
   "source": [
    "Kernel function used in above mapping:\n",
    "\n",
    "$$\n",
    "x \\in R^2 \\\\\n",
    "\\phi: R^2 \\mapsto R^3 \\\\\n",
    "\\phi(x) = \\left( (x^{(1)})^2, \\sqrt{2} x^{(1)} x^{(2)}, (x^{(2)})^2 \\right)\n",
    "$$\n",
    "\n",
    "We can drag the 3D scatter plot above to see that classification can be achieved\n",
    "by a plane in feature space."
   ]
  },
  {
   "cell_type": "code",
   "execution_count": 9,
   "metadata": {},
   "outputs": [
    {
     "name": "stdout",
     "output_type": "stream",
     "text": [
      "support vector amount: 94\n",
      "corresponding alphas: [6.00000000e-01 6.00000000e-01 6.00000000e-01 6.00000000e-01\n",
      " 6.00000000e-01 6.00000000e-01 6.00000000e-01 2.66453526e-15\n",
      " 6.00000000e-01 6.00000000e-01 6.00000000e-01 6.00000000e-01\n",
      " 6.00000000e-01 6.00000000e-01 6.00000000e-01 6.00000000e-01\n",
      " 6.00000000e-01 6.00000000e-01 6.00000000e-01 6.00000000e-01\n",
      " 6.00000000e-01 6.00000000e-01 6.00000000e-01 6.00000000e-01\n",
      " 6.00000000e-01 6.00000000e-01 6.00000000e-01 6.00000000e-01\n",
      " 6.00000000e-01 6.00000000e-01 2.66453526e-15 6.00000000e-01\n",
      " 6.00000000e-01 6.00000000e-01 6.00000000e-01 6.00000000e-01\n",
      " 6.00000000e-01 6.00000000e-01 6.00000000e-01 2.66453526e-15\n",
      " 6.00000000e-01 6.00000000e-01 6.00000000e-01 6.00000000e-01\n",
      " 6.00000000e-01 6.00000000e-01 6.00000000e-01 6.00000000e-01\n",
      " 6.00000000e-01 6.00000000e-01 6.00000000e-01 6.00000000e-01\n",
      " 6.00000000e-01 6.00000000e-01 6.00000000e-01 6.00000000e-01\n",
      " 6.00000000e-01 6.00000000e-01 6.00000000e-01 6.00000000e-01\n",
      " 6.00000000e-01 6.00000000e-01 6.00000000e-01 6.00000000e-01\n",
      " 6.00000000e-01 6.00000000e-01 6.00000000e-01 6.00000000e-01\n",
      " 6.00000000e-01 6.00000000e-01 6.00000000e-01 6.00000000e-01\n",
      " 6.00000000e-01 6.00000000e-01 2.66453526e-15 6.00000000e-01\n",
      " 6.00000000e-01 2.66453526e-15 6.00000000e-01 6.00000000e-01\n",
      " 6.00000000e-01 6.00000000e-01 6.00000000e-01 6.00000000e-01\n",
      " 6.00000000e-01 6.00000000e-01 6.00000000e-01 2.66453526e-15\n",
      " 6.00000000e-01 6.00000000e-01 6.00000000e-01 6.00000000e-01\n",
      " 6.00000000e-01 6.00000000e-01]\n",
      "b in smo: 12.473622231291156\n"
     ]
    },
    {
     "data": {
      "application/vnd.jupyter.widget-view+json": {
       "model_id": "145a0b2d7578460580986f4556665fd5",
       "version_major": 2,
       "version_minor": 0
      },
      "text/plain": [
       "Canvas(toolbar=Toolbar(toolitems=[('Home', 'Reset original view', 'home', 'home'), ('Back', 'Back to previous …"
      ]
     },
     "metadata": {},
     "output_type": "display_data"
    }
   ],
   "source": [
    "# what will happen if we still use linear method on above nonlinear separable data?\n",
    "def test_linear_method_on_nonlinear_separable_data():\n",
    "    train_data, train_label = load_dataset('nonlinear_separable_train.txt')\n",
    "    s = svm.SVMBySMO(train_data, train_label, 0.6, 1e-3, max_iter=100)\n",
    "    visualize_dataset_with_decision_boundary(train_data, train_label,\n",
    "            *s.get_params())\n",
    "    \n",
    "test_linear_method_on_nonlinear_separable_data()\n",
    "\n",
    "# we can see that most $\\alpha == C$, this means that most $\\xi \\neq 0$,\n",
    "# most of them are misclassified."
   ]
  },
  {
   "cell_type": "code",
   "execution_count": 10,
   "metadata": {},
   "outputs": [
    {
     "data": {
      "application/vnd.jupyter.widget-view+json": {
       "model_id": "9288cf776a6d45dd952ed8c25f821dc9",
       "version_major": 2,
       "version_minor": 0
      },
      "text/plain": [
       "Canvas(toolbar=Toolbar(toolitems=[('Home', 'Reset original view', 'home', 'home'), ('Back', 'Back to previous …"
      ]
     },
     "metadata": {},
     "output_type": "display_data"
    },
    {
     "name": "stdout",
     "output_type": "stream",
     "text": [
      "support vertor amount: 5\n"
     ]
    },
    {
     "data": {
      "application/vnd.jupyter.widget-view+json": {
       "model_id": "2c234731a07f4d02b119752ed3c30cc7",
       "version_major": 2,
       "version_minor": 0
      },
      "text/plain": [
       "Canvas(toolbar=Toolbar(toolitems=[('Home', 'Reset original view', 'home', 'home'), ('Back', 'Back to previous …"
      ]
     },
     "metadata": {},
     "output_type": "display_data"
    },
    {
     "name": "stdout",
     "output_type": "stream",
     "text": [
      "support vertor amount: 6\n"
     ]
    }
   ],
   "source": [
    "# Let's play with kernel trick.\n",
    "def explore_kernel_trick(kernel, C):\n",
    "    train_data, train_label = load_dataset('nonlinear_separable_train.txt')\n",
    "    \n",
    "    fig = plt.figure()\n",
    "    ax1 = fig.add_subplot(121)\n",
    "    ax1.scatter(train_data[:,0], train_data[:,1], c=train_label)\n",
    "    ax1.title.set_text('Origin')\n",
    "    \n",
    "    s = svm.SVMBySMO(train_data, train_label, C, 1e-4, kernel=kernel, max_iter=20000)\n",
    "    # we try to verify that our kernel implementation, so we just predict on train_data\n",
    "    predict_label = s.predict(train_data)\n",
    "    \n",
    "    ax2 = fig.add_subplot(122)\n",
    "    ax2.scatter(train_data[:,0], train_data[:,1], c=predict_label)\n",
    "    ax2.title.set_text('kernel: {}'.format(kernel[0]))\n",
    "    \n",
    "    # plot support vector\n",
    "    alphas = s.get_params()[0]\n",
    "    support_vector_idx = np.nonzero(np.logical_and(0 < alphas, alphas < C))[0]\n",
    "    ax2.scatter(train_data[support_vector_idx,0],\n",
    "                train_data[support_vector_idx,1],\n",
    "                marker='x')\n",
    "    \n",
    "    print('support vertor amount:', support_vector_idx.size)\n",
    "\n",
    "# we check Polynomial kernel first\n",
    "explore_kernel_trick(('Polynomial', 2), 200)\n",
    "\n",
    "# then check Gaussian kernel\n",
    "explore_kernel_trick(('Gaussian', 1.3), 100)"
   ]
  },
  {
   "cell_type": "code",
   "execution_count": 11,
   "metadata": {},
   "outputs": [
    {
     "name": "stdout",
     "output_type": "stream",
     "text": [
      "accuracy: 0.96\n",
      "accuracy: 0.94\n"
     ]
    }
   ],
   "source": [
    "def calculate_accuracy(Y, predict_Y):\n",
    "    return (Y == predict_Y).sum() / Y.size\n",
    "\n",
    "def test_accuracy_on_nonlinear_separable(**kwargs):\n",
    "    train_data, train_label = load_dataset('nonlinear_separable_train.txt')\n",
    "    test_data, test_label = load_dataset('nonlinear_separable_test.txt')\n",
    "    \n",
    "    s = svm.SVMBySMO(train_data, train_label, **kwargs)\n",
    "    predict_label = s.predict(test_data)\n",
    "    \n",
    "    accuracy = calculate_accuracy(test_label, predict_label)\n",
    "    print('accuracy:', accuracy)\n",
    "    \n",
    "test_accuracy_on_nonlinear_separable(C=200, epsilon=1e-4,\n",
    "    kernel=('Polynomial', 2), max_iter=20000)\n",
    "\n",
    "test_accuracy_on_nonlinear_separable(C=100, epsilon=1e-4,\n",
    "    kernel=('Gaussian', 1.3), max_iter=20000)"
   ]
  }
 ],
 "metadata": {
  "kernelspec": {
   "display_name": "Python 3",
   "language": "python",
   "name": "python3"
  },
  "language_info": {
   "codemirror_mode": {
    "name": "ipython",
    "version": 3
   },
   "file_extension": ".py",
   "mimetype": "text/x-python",
   "name": "python",
   "nbconvert_exporter": "python",
   "pygments_lexer": "ipython3",
   "version": "3.7.7"
  }
 },
 "nbformat": 4,
 "nbformat_minor": 4
}
